{
 "cells": [
  {
   "cell_type": "markdown",
   "metadata": {},
   "source": [
    "# Machine Learning Specialization - Regression\n",
    "\n",
    "Course Activities Notebook."
   ]
  },
  {
   "cell_type": "markdown",
   "metadata": {},
   "source": [
    "## One-Dimensional Linear Regression\n",
    "\n",
    "For implementations in this notebook, we use the follow modules and data:"
   ]
  },
  {
   "cell_type": "code",
   "execution_count": 1,
   "metadata": {
    "ExecuteTime": {
     "end_time": "2019-02-16T02:13:52.797456Z",
     "start_time": "2019-02-16T02:13:52.108831Z"
    },
    "scrolled": true
   },
   "outputs": [
    {
     "data": {
      "text/plain": [
       "Text(0, 0.5, 'Y')"
      ]
     },
     "execution_count": 1,
     "metadata": {},
     "output_type": "execute_result"
    },
    {
     "data": {
      "image/png": "[encoded data removed]",
      "text/plain": [
       "<Figure size 432x288 with 1 Axes>"
      ]
     },
     "metadata": {
      "needs_background": "light"
     },
     "output_type": "display_data"
    }
   ],
   "source": [
    "import matplotlib.pyplot as plt\n",
    "import numpy as np\n",
    "%matplotlib inline\n",
    "\n",
    "X = np.array([0, 1, 2, 3, 4])\n",
    "Y = np.array([1, 3, 7, 13, 21])\n",
    "N = len(X)\n",
    "\n",
    "plt.scatter(X, Y)\n",
    "plt.xlabel('X')\n",
    "plt.ylabel('Y')"
   ]
  },
  {
   "cell_type": "markdown",
   "metadata": {},
   "source": [
    "### Loss Function RSS\n",
    "\n",
    "The follow function is *Residual Sum of Squares* (RSS) loss function.\n",
    "$$ g(w) = min \\left[ \\sum_{i=1}^{N} y_i - \\left( w_0 + w_1 \\times x_i \\right) \\right]^2 $$\n",
    "\n",
    "Calculating the derivative of $g(w)$ in relation with $w$ we have\n",
    "    $$ \\frac{\\partial g}{\\partial w_0} = -2 \\sum_{i=0}^{N} \\left[y_1 - \\left(w_0 + w_1 x_i \\right) \\right] $$\n",
    "And\n",
    "    $$ \\frac{\\partial g}{\\partial w_1} = -2 \\sum_{i=0}^{N} \\left[y_1 - \\left(w_0 + w_1 x_i \\right) \\right] x_i $$\n"
   ]
  },
  {
   "cell_type": "markdown",
   "metadata": {},
   "source": [
    "### First Approach: Exact Soluction (set gradient equals to zero)\n",
    "    \n",
    "We get\n",
    "    $$ \\hat{w_0} = \\frac{\\sum_{i=1}^{N} y_i}{N} - \\frac{\\hat{w_1} \\sum_{i=1}^{N} x_i}{N} $$\n",
    "And\n",
    "    $$ \\hat{w_1} = \\frac{\\sum_{i=1}^{N} y_i x_i - \\sum_{i=1}^{N} y_i \\sum_{i=1}^{N} x_i}{\\sum_{i=1}^{N}x_i^2 - \\frac{\\sum_{i=1}^{N}x_i \\sum_{i=1}^{N}x_i}{N}} $$\n",
    "    \n",
    "\n",
    "**Implementation:**"
   ]
  },
  {
   "cell_type": "code",
   "execution_count": 2,
   "metadata": {
    "ExecuteTime": {
     "end_time": "2019-02-16T02:13:54.423381Z",
     "start_time": "2019-02-16T02:13:54.222310Z"
    }
   },
   "outputs": [
    {
     "name": "stdout",
     "output_type": "stream",
     "text": [
      "Slope: 5.00 | Intercept: -1.00\n"
     ]
    },
    {
     "data": {
      "text/plain": [
       "<matplotlib.legend.Legend at 0x112bc79e8>"
      ]
     },
     "execution_count": 2,
     "metadata": {},
     "output_type": "execute_result"
    },
    {
     "data": {
      "image/png": "[encoded data removed]",
      "text/plain": [
       "<Figure size 432x288 with 1 Axes>"
      ]
     },
     "metadata": {
      "needs_background": "light"
     },
     "output_type": "display_data"
    }
   ],
   "source": [
    "numerator = np.sum(X*Y) - (1/N)*(np.sum(X) * np.sum(Y))\n",
    "denominator = np.sum(X**2) - (1/N)*(np.sum(X) * np.sum(X))\n",
    "\n",
    "slope = numerator / denominator\n",
    "intercept = np.mean(Y) - slope * np.mean(X)\n",
    "\n",
    "print(\"Slope: {0:2.2f} | Intercept: {1:2.2f}\".format(slope, intercept))\n",
    "\n",
    "predictions = intercept + slope * X\n",
    "\n",
    "plt.plot(X, Y, '.', color='blue', label='Original')\n",
    "plt.plot(X, predictions, '-', color='red', label='Regression')\n",
    "plt.xlabel('X')\n",
    "plt.ylabel('Y')\n",
    "plt.legend()"
   ]
  },
  {
   "cell_type": "markdown",
   "metadata": {},
   "source": [
    "### Second Approach - Gradient Descent Algorithm\n",
    "\n",
    "\n",
    "---\n",
    "\n",
    "**While** (not converge):\n",
    "    $$w^{(t+1)} \\leftarrow w^{(t)} - \\eta \\frac{\\partial g}{\\partial w}$$\n",
    "\n",
    "---\n",
    "\n",
    "\n",
    "#### Implementation\n",
    "**Details:**\n",
    "- Inicial Intercept equals to 0.0;\n",
    "- Inicial Slope equals to 0.0;\n",
    "- Step Size ($\\eta$) equals to 0.05;\n",
    "- Tolerance ($\\epsilon$) equals to 0.01"
   ]
  },
  {
   "cell_type": "code",
   "execution_count": 3,
   "metadata": {
    "ExecuteTime": {
     "end_time": "2019-02-16T02:14:01.690600Z",
     "start_time": "2019-02-16T02:14:01.457333Z"
    },
    "scrolled": false
   },
   "outputs": [
    {
     "name": "stdout",
     "output_type": "stream",
     "text": [
      "| Step: 1 | Intercept = 2.2500 | Slope = 7.0000 | Loss: 99.349446 |\n",
      "| Step: 2 | Intercept = 0.4375 | Slope = 2.3750 | Loss: 67.138063 |\n",
      "| Step: 3 | Intercept = 1.3906 | Slope = 5.5938 | Loss: 45.393045 |\n",
      "| Step: 4 | Intercept = 0.4961 | Slope = 3.5078 | Loss: 30.719602 |\n",
      "| Step: 5 | Intercept = 0.8682 | Slope = 4.9980 | Loss: 20.825569 |\n",
      "| Step: 6 | Intercept = 0.4021 | Slope = 4.0669 | Loss: 14.163561 |\n",
      "| Step: 7 | Intercept = 0.5181 | Slope = 4.7655 | Loss: 9.689181 |\n",
      "| Step: 8 | Intercept = 0.2558 | Slope = 4.3582 | Loss: 6.697456 |\n",
      "| Step: 9 | Intercept = 0.2628 | Slope = 4.6930 | Loss: 4.711838 |\n",
      "| Step: 10 | Intercept = 0.1006 | Slope = 4.5221 | Loss: 3.408448 |\n",
      "| Step: 11 | Intercept = 0.0644 | Slope = 4.6886 | Loss: 2.564286 |\n",
      "| Step: 12 | Intercept = -0.0460 | Slope = 4.6235 | Loss: 2.022952 |\n",
      "| Step: 13 | Intercept = -0.0963 | Slope = 4.7113 | Loss: 1.674100 |\n",
      "| Step: 14 | Intercept = -0.1778 | Slope = 4.6925 | Loss: 1.442171 |\n",
      "| Step: 15 | Intercept = -0.2296 | Slope = 4.7427 | Loss: 1.278688 |\n",
      "| Step: 16 | Intercept = -0.2935 | Slope = 4.7435 | Loss: 1.154794 |\n",
      "| Step: 17 | Intercept = -0.3419 | Slope = 4.7750 | Loss: 1.054322 |\n",
      "| Step: 18 | Intercept = -0.3939 | Slope = 4.7834 | Loss: 0.968530 |\n",
      "| Step: 19 | Intercept = -0.4372 | Slope = 4.8053 | Loss: 0.892735 |\n",
      "| Step: 20 | Intercept = -0.4805 | Slope = 4.8160 | Loss: 0.824381 |\n",
      "| Step: 21 | Intercept = -0.5184 | Slope = 4.8323 | Loss: 0.762011 |\n",
      "| Step: 22 | Intercept = -0.5549 | Slope = 4.8430 | Loss: 0.704733 |\n",
      "| Step: 23 | Intercept = -0.5877 | Slope = 4.8559 | Loss: 0.651943 |\n",
      "| Step: 24 | Intercept = -0.6187 | Slope = 4.8659 | Loss: 0.603198 |\n",
      "| Step: 25 | Intercept = -0.6470 | Slope = 4.8764 | Loss: 0.558143 |\n",
      "| Step: 26 | Intercept = -0.6735 | Slope = 4.8853 | Loss: 0.516475 |\n",
      "| Step: 27 | Intercept = -0.6977 | Slope = 4.8941 | Loss: 0.477929 |\n",
      "| Step: 28 | Intercept = -0.7204 | Slope = 4.9018 | Loss: 0.442265 |\n",
      "| Step: 29 | Intercept = -0.7412 | Slope = 4.9093 | Loss: 0.409264 |\n",
      "| Step: 30 | Intercept = -0.7605 | Slope = 4.9160 | Loss: 0.378728 |\n",
      "| Step: 31 | Intercept = -0.7784 | Slope = 4.9223 | Loss: 0.350471 |\n",
      "| Step: 32 | Intercept = -0.7949 | Slope = 4.9280 | Loss: 0.324322 |\n",
      "| Step: 33 | Intercept = -0.8102 | Slope = 4.9334 | Loss: 0.300124 |\n",
      "| Step: 34 | Intercept = -0.8244 | Slope = 4.9384 | Loss: 0.277732 |\n",
      "| Step: 35 | Intercept = -0.8375 | Slope = 4.9430 | Loss: 0.257010 |\n",
      "| Step: 36 | Intercept = -0.8496 | Slope = 4.9472 | Loss: 0.237835 |\n",
      "| Step: 37 | Intercept = -0.8608 | Slope = 4.9512 | Loss: 0.220090 |\n",
      "| Step: 38 | Intercept = -0.8712 | Slope = 4.9548 | Loss: 0.203669 |\n",
      "| Step: 39 | Intercept = -0.8808 | Slope = 4.9582 | Loss: 0.188474 |\n",
      "| Step: 40 | Intercept = -0.8897 | Slope = 4.9613 | Loss: 0.174412 |\n",
      "| Step: 41 | Intercept = -0.8979 | Slope = 4.9642 | Loss: 0.161399 |\n",
      "| Step: 42 | Intercept = -0.9055 | Slope = 4.9669 | Loss: 0.149357 |\n",
      "| Step: 43 | Intercept = -0.9126 | Slope = 4.9693 | Loss: 0.138214 |\n",
      "| Step: 44 | Intercept = -0.9191 | Slope = 4.9716 | Loss: 0.127902 |\n",
      "| Step: 45 | Intercept = -0.9252 | Slope = 4.9737 | Loss: 0.118359 |\n",
      "| Step: 46 | Intercept = -0.9307 | Slope = 4.9757 | Loss: 0.109528 |\n",
      "| Step: 47 | Intercept = -0.9359 | Slope = 4.9775 | Loss: 0.101356 |\n",
      "| Step: 48 | Intercept = -0.9407 | Slope = 4.9792 | Loss: 0.093794 |\n",
      "| Step: 49 | Intercept = -0.9451 | Slope = 4.9807 | Loss: 0.086796 |\n",
      "| Step: 50 | Intercept = -0.9492 | Slope = 4.9822 | Loss: 0.080321 |\n",
      "| Step: 51 | Intercept = -0.9530 | Slope = 4.9835 | Loss: 0.074328 |\n",
      "| Step: 52 | Intercept = -0.9565 | Slope = 4.9847 | Loss: 0.068782 |\n",
      "| Step: 53 | Intercept = -0.9597 | Slope = 4.9859 | Loss: 0.063650 |\n",
      "| Step: 54 | Intercept = -0.9628 | Slope = 4.9869 | Loss: 0.058902 |\n",
      "| Step: 55 | Intercept = -0.9655 | Slope = 4.9879 | Loss: 0.054507 |\n",
      "| Step: 56 | Intercept = -0.9681 | Slope = 4.9888 | Loss: 0.050440 |\n",
      "| Step: 57 | Intercept = -0.9705 | Slope = 4.9896 | Loss: 0.046677 |\n",
      "| Step: 58 | Intercept = -0.9727 | Slope = 4.9904 | Loss: 0.043194 |\n",
      "| Step: 59 | Intercept = -0.9747 | Slope = 4.9911 | Loss: 0.039972 |\n",
      "| Step: 60 | Intercept = -0.9766 | Slope = 4.9918 | Loss: 0.036989 |\n",
      "| Step: 61 | Intercept = -0.9784 | Slope = 4.9924 | Loss: 0.034230 |\n",
      "| Step: 62 | Intercept = -0.9800 | Slope = 4.9930 | Loss: 0.031676 |\n",
      "| Step: 63 | Intercept = -0.9815 | Slope = 4.9935 | Loss: 0.029312 |\n",
      "| Step: 64 | Intercept = -0.9828 | Slope = 4.9940 | Loss: 0.027125 |\n",
      "| Step: 65 | Intercept = -0.9841 | Slope = 4.9944 | Loss: 0.025102 |\n",
      "| Step: 66 | Intercept = -0.9853 | Slope = 4.9948 | Loss: 0.023229 |\n",
      "| Step: 67 | Intercept = -0.9864 | Slope = 4.9952 | Loss: 0.021496 |\n",
      "| Step: 68 | Intercept = -0.9874 | Slope = 4.9956 | Loss: 0.019892 |\n",
      "| Step: 69 | Intercept = -0.9884 | Slope = 4.9959 | Loss: 0.018408 |\n",
      "| Step: 70 | Intercept = -0.9892 | Slope = 4.9962 | Loss: 0.017034 |\n",
      "| Step: 71 | Intercept = -0.9900 | Slope = 4.9965 | Loss: 0.015763 |\n",
      "| Step: 72 | Intercept = -0.9908 | Slope = 4.9968 | Loss: 0.014587 |\n",
      "| Step: 73 | Intercept = -0.9915 | Slope = 4.9970 | Loss: 0.013499 |\n",
      "| Step: 74 | Intercept = -0.9921 | Slope = 4.9972 | Loss: 0.012492 |\n",
      "| Step: 75 | Intercept = -0.9927 | Slope = 4.9974 | Loss: 0.011560 |\n",
      "| Step: 76 | Intercept = -0.9932 | Slope = 4.9976 | Loss: 0.010697 |\n",
      "| Step: 77 | Intercept = -0.9937 | Slope = 4.9978 | Loss: 0.009899 |\n"
     ]
    },
    {
     "data": {
      "text/plain": [
       "<matplotlib.legend.Legend at 0x112c1e9e8>"
      ]
     },
     "execution_count": 3,
     "metadata": {},
     "output_type": "execute_result"
    },
    {
     "data": {
      "image/png": "[encoded data removed]",
      "text/plain": [
       "<Figure size 432x288 with 1 Axes>"
      ]
     },
     "metadata": {
      "needs_background": "light"
     },
     "output_type": "display_data"
    }
   ],
   "source": [
    "intercept = 0\n",
    "slope = 0\n",
    "step_size = 0.05\n",
    "tolerance = 0.01\n",
    "\n",
    "step_counter = 0\n",
    "\n",
    "predictions = intercept + slope * X\n",
    "errors = predictions - Y\n",
    "\n",
    "magnetude = np.sqrt(np.sum(errors**2))\n",
    "\n",
    "while magnetude > tolerance:\n",
    "    step_counter += 1\n",
    "    intercept = intercept - step_size * np.sum(errors)\n",
    "\n",
    "    slope = slope - step_size * np.sum(errors * X)\n",
    "\n",
    "    predictions = intercept + slope * X\n",
    "    errors = predictions - Y\n",
    "    magnetude = np.sqrt(np.sum(errors)**2 + np.sum(errors * X)**2)\n",
    "\n",
    "    print(\n",
    "        \"| Step: {0:d} | Intercept = {1:2.4f} | Slope = {2:2.4f} | Loss: {3:2.6f} |\".format(\n",
    "            step_counter,\n",
    "            intercept,\n",
    "            slope,\n",
    "            magnetude\n",
    "        )\n",
    "    )\n",
    "\n",
    "plt.plot(X, Y, '.', color='blue', label='Original')\n",
    "plt.plot(X, predictions, '-', color='red', label='Regression')\n",
    "plt.xlabel('X')\n",
    "plt.ylabel('Y')\n",
    "plt.legend()\n"
   ]
  },
  {
   "cell_type": "code",
   "execution_count": null,
   "metadata": {},
   "outputs": [],
   "source": []
  }
 ],
 "metadata": {
  "hide_input": false,
  "kernelspec": {
   "display_name": "default_env_3.7.1",
   "language": "python",
   "name": "default_env_3.7.1"
  },
  "language_info": {
   "codemirror_mode": {
    "name": "ipython",
    "version": 3
   },
   "file_extension": ".py",
   "mimetype": "text/x-python",
   "name": "python",
   "nbconvert_exporter": "python",
   "pygments_lexer": "ipython3",
   "version": "3.7.1"
  },
  "nbTranslate": {
   "displayLangs": [
    "*"
   ],
   "hotkey": "alt-t",
   "langInMainMenu": true,
   "sourceLang": "en",
   "targetLang": "fr",
   "useGoogleTranslate": true
  },
  "toc": {
   "base_numbering": 1,
   "nav_menu": {},
   "number_sections": true,
   "sideBar": true,
   "skip_h1_title": false,
   "title_cell": "Table of Contents",
   "title_sidebar": "Contents",
   "toc_cell": false,
   "toc_position": {},
   "toc_section_display": true,
   "toc_window_display": false
  },
  "varInspector": {
   "cols": {
    "lenName": 16,
    "lenType": 16,
    "lenVar": 40
   },
   "kernels_config": {
    "python": {
     "delete_cmd_postfix": "",
     "delete_cmd_prefix": "del ",
     "library": "var_list.py",
     "varRefreshCmd": "print(var_dic_list())"
    },
    "r": {
     "delete_cmd_postfix": ") ",
     "delete_cmd_prefix": "rm(",
     "library": "var_list.r",
     "varRefreshCmd": "cat(var_dic_list()) "
    }
   },
   "types_to_exclude": [
    "module",
    "function",
    "builtin_function_or_method",
    "instance",
    "_Feature"
   ],
   "window_display": false
  }
 },
 "nbformat": 4,
 "nbformat_minor": 2
}
